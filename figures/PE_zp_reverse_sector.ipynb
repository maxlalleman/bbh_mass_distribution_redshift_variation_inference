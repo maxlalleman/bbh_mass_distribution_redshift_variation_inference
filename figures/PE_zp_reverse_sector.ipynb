{
 "cells": [
  {
   "cell_type": "code",
   "execution_count": null,
   "id": "8fcc0daa-e11e-417d-b4a4-8d98de2b91c1",
   "metadata": {},
   "outputs": [],
   "source": [
    "import arviz as az\n",
    "import matplotlib.pylab as plt\n",
    "import numpyro.distributions as dist\n",
    "\n",
    "from makeCorner import *\n",
    "\n",
    "az.rcParams[\"plot.max_subplots\"] = 80"
   ]
  },
  {
   "cell_type": "code",
   "execution_count": null,
   "id": "9ee9d08c-e7cd-4b99-8786-bdcdb027b8f3",
   "metadata": {},
   "outputs": [],
   "source": [
    "cdf_file = \"./RUNS/CBC_O3_Reverse_Sector.cdf\"\n",
    "data = az.from_netcdf(cdf_file)\n",
    "samps = data.posterior.stack(draws=(\"chain\", \"draw\"))"
   ]
  },
  {
   "cell_type": "code",
   "execution_count": null,
   "id": "2f8ffad2-889f-460c-acb1-2239a302de1a",
   "metadata": {},
   "outputs": [],
   "source": [
    "new_priors = {\n",
    "    \"logR20\":dist.Uniform(-2,1),\n",
    "    \"alpha_ref\":dist.Normal(-2,3),\n",
    "    \"mu_m1\":dist.Uniform(20,50),\n",
    "    \"mMin\":dist.Uniform(5,15),\n",
    "    \"bq\":dist.Normal(0,3),\n",
    "    \"alpha_z\":dist.Normal(0,4),\n",
    "    \"delta_alpha_z\": dist.Normal(0,1),\n",
    "    \"log_width_alpha_z\": dist.Uniform(-1,1),\n",
    "    \"middle_m_alpha_z\": dist.Uniform(30,75),\n",
    "    \"beta_z\":dist.Uniform(0,10),\n",
    "    \"high_beta_z\": dist.Uniform(0,10),\n",
    "    \"log_width_beta_z\": dist.Uniform(-1,1),\n",
    "    \"middle_m_beta_z\": dist.Uniform(30,75),\n",
    "    \"low_zp\": dist.Uniform(0.2,4),\n",
    "    \"high_zp\": dist.Uniform(0.2,4),\n",
    "    \"log_width_zp\": dist.Uniform(-1,1),\n",
    "    \"middle_m_zp\": dist.Uniform(30,75),\n",
    "    \"sig_m1\": dist.Uniform(1.5, 15)\n",
    "}"
   ]
  },
  {
   "cell_type": "code",
   "execution_count": null,
   "id": "92191fc2-25cf-4035-a25b-c0b76c63572e",
   "metadata": {},
   "outputs": [],
   "source": [
    "fig = plt.figure(figsize=(14,13))\n",
    "toPlot_no_GWB = {\n",
    "    \"alpha_z\":{\"data\":samps.alpha_z,\"plot_bounds\":(-1,6),\"label\":r\"$\\alpha$\"},\n",
    "    \"beta_z\":{\"data\":samps.beta_z,\"plot_bounds\":(0,10),\"label\":r\"$\\beta_z$\"},\n",
    "    \"high_zp\":{\"data\":samps.high_zp,\"plot_bounds\":(0,4),\"label\":r\"$high z_p$\"},\n",
    "    \"low_zp\":{\"data\":samps.low_zp,\"plot_bounds\":(0,4),\"label\":r\"$low z_p$\"},\n",
    "    \"middle_m_zp\":{\"data\":samps.middle_m,\"plot_bounds\":(30,75),\"label\":r\"$m_{\\rm middle}$\"},\n",
    "    \"log_width_zp\":{\"data\":samps.log_width_zp,\"plot_bounds\":(-1,1),\"label\":r\"log($w_{z_p}$)\"},\n",
    "    \"alpha_ref\":{\"data\":samps.alpha_ref,\"plot_bounds\":(-6.5,-2.5),\"label\":r\"$\\kappa_{0}$\"},\n",
    "}\n",
    "\n",
    "plot_corner(fig,toPlot_no_GWB,'#e31a1c',labelsize=20, priors = new_priors)\n",
    "plt.savefig(\"PE_zp_reverse_sector.pdf\", dpi=400, bbox_inches='tight')\n",
    "plt.xticks(fontsize=25)\n",
    "plt.yticks(fontsize=25)\n",
    "plt.tight_layout()\n",
    "plt.show()"
   ]
  }
 ],
 "metadata": {
  "kernelspec": {
   "display_name": "autoregressive-pop-modeling",
   "language": "python",
   "name": "autoregressive-pop-modeling"
  },
  "language_info": {
   "codemirror_mode": {
    "name": "ipython",
    "version": 3
   },
   "file_extension": ".py",
   "mimetype": "text/x-python",
   "name": "python",
   "nbconvert_exporter": "python",
   "pygments_lexer": "ipython3",
   "version": "3.8.13"
  }
 },
 "nbformat": 4,
 "nbformat_minor": 5
}
