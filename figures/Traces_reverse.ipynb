{
 "cells": [
  {
   "cell_type": "code",
   "execution_count": null,
   "id": "8fcc0daa-e11e-417d-b4a4-8d98de2b91c1",
   "metadata": {},
   "outputs": [],
   "source": [
    "import arviz as az\n",
    "import matplotlib.pylab as plt\n",
    "\n",
    "from makeCorner import *\n",
    "\n",
    "az.rcParams[\"plot.max_subplots\"] = 80"
   ]
  },
  {
   "cell_type": "code",
   "execution_count": null,
   "id": "9ee9d08c-e7cd-4b99-8786-bdcdb027b8f3",
   "metadata": {},
   "outputs": [],
   "source": [
    "cdf_file = \"./RUNS/CBC_O3_Reverse_Sector.cdf\"\n",
    "data = az.from_netcdf(cdf_file)\n",
    "samps = data.posterior.stack(draws=(\"chain\", \"draw\"))"
   ]
  },
  {
   "cell_type": "code",
   "execution_count": null,
   "id": "b14e989a-916d-4c43-b2c6-27df17324a5b",
   "metadata": {},
   "outputs": [],
   "source": [
    "def sigmoid_zp(low, high, width, middle, mass):\n",
    "    return (high - low) / (1 + jnp.exp(-(1/width)*(mass - middle))) + low\n",
    "\n",
    "def sigmoid_delta(low, delta, width, middle, mass):\n",
    "    return (delta) / (1 + jnp.exp(-(1/width)*(mass - middle))) + low\n",
    "\n",
    "def merger_rate_zp_sigmoid(alpha_z,delta_alpha, width_alpha_z, middle_alpha_z,\n",
    "                           beta_z, high_beta_z, width_beta_z, middle_beta_z,\n",
    "                           low_zp, high_zp, width_m, m_middle, masses, z_s):\n",
    "    alpha_z = sigmoid_delta(alpha_z, delta_alpha, width_alpha_z, middle_alpha_z, masses)\n",
    "    beta_z = sigmoid_zp(beta_z, high_beta_z, width_beta_z, middle_beta_z, masses)\n",
    "    new_zp = sigmoid_zp(low_zp, high_zp, width_m, m_middle, masses)\n",
    "    return (1+z_s)**alpha_z/(1+((1+z_s)/(1+new_zp))**(alpha_z+beta_z))\n",
    "\n",
    "m_grid = np.linspace(2,120,500)"
   ]
  },
  {
   "cell_type": "code",
   "execution_count": null,
   "id": "b07ef015-f23e-4e9e-a7d3-e8bde6fdbfe2",
   "metadata": {},
   "outputs": [],
   "source": [
    "fig,ax = plt.subplots(figsize=(10,6))\n",
    "\n",
    "zp_matrix = np.zeros((len(range(samps.alpha_ref.size)), len(m_grid)))\n",
    "for i in range(samps.alpha_ref.size):\n",
    "    zp = sigmoid_zp(samps.low_zp.values[i], samps.high_zp.values[i], 10.**samps.log_width_zp.values[i], samps.middle_m.values[i], m_grid)\n",
    "    ax.plot(m_grid, zp, color='#e31a1c', lw=0.1, alpha = 0.1, rasterized = True)\n",
    "    zp_matrix[i, :] = zp\n",
    "    \n",
    "median_zp = np.median(zp_matrix, axis = 0)\n",
    "    \n",
    "ax.set_xlim(2,120)\n",
    "ax.set_ylim(0.2,4)\n",
    "ax.set_xlabel(r\"$m_1$ [$M_{\\odot}$]\", fontsize = 35)\n",
    "ax.set_ylabel(r\"$z_p$\", fontsize = 35)\n",
    "plt.xticks(fontsize=25)\n",
    "plt.yticks(fontsize=25)\n",
    "plt.plot(m_grid, median_zp, \"-.\", c=\"k\", rasterized=True)\n",
    "plt.plot(m_grid,np.quantile(zp_matrix,0.05,axis=0), rasterized=True, color='k', lw=2, alpha=1)\n",
    "plt.plot(m_grid,np.quantile(zp_matrix,0.95,axis=0), rasterized=True, color='k', lw=2, alpha=1)\n",
    "plt.show()"
   ]
  },
  {
   "cell_type": "code",
   "execution_count": null,
   "id": "d234da9a-eaca-4208-86f5-a31ad5f7ff9c",
   "metadata": {},
   "outputs": [],
   "source": [
    "fig,ax = plt.subplots(figsize=(10,6))\n",
    "\n",
    "beta_matrix = np.zeros((len(range(samps.alpha_ref.size)), len(m_grid)))\n",
    "for i in range(samps.alpha_ref.size):\n",
    "    zp = sigmoid_zp(samps.beta_z.values[i], samps.high_beta_z.values[i], 10.**samps.width_beta_z.values[i], samps.middle_m_beta_z.values[i], m_grid)\n",
    "    ax.plot(m_grid, zp, color='#e31a1c', lw=0.1, alpha = 0.1, rasterized = True)\n",
    "    beta_matrix[i, :] = zp\n",
    "    \n",
    "median_beta = np.median(beta_matrix, axis = 0)\n",
    "\n",
    "ax.set_xlim(2,120)\n",
    "ax.set_ylim(0,10)\n",
    "ax.set_xlabel(r\"$m_1$ [$M_{\\odot}$]\", fontsize = 35)\n",
    "ax.set_ylabel(r\"$\\beta_z$\", fontsize = 35)\n",
    "plt.xticks(fontsize=25)\n",
    "plt.yticks(fontsize=25)\n",
    "plt.plot(m_grid, median_beta, \"-.\", c=\"k\", rasterized=True)\n",
    "plt.plot(m_grid,np.quantile(beta_matrix,0.05,axis=0), rasterized=True, color='k', lw=2, alpha=1)\n",
    "plt.plot(m_grid,np.quantile(beta_matrix,0.95,axis=0), rasterized=True, color='k', lw=2, alpha=1)\n",
    "plt.show()"
   ]
  },
  {
   "cell_type": "code",
   "execution_count": null,
   "id": "e65b4435-bd93-41c7-a375-1fcd612185e1",
   "metadata": {},
   "outputs": [],
   "source": [
    "fig,ax = plt.subplots(figsize=(10,6))\n",
    "\n",
    "alpha_matrix = np.zeros((len(range(samps.alpha_ref.size)), len(m_grid)))\n",
    "for i in range(samps.alpha_ref.size):\n",
    "    zp = sigmoid_delta(samps.alpha_z.values[i], samps.delta_alpha_z.values[i], 10.**samps.width_alpha_z.values[i], samps.middle_m_alpha_z.values[i], m_grid)\n",
    "    ax.plot(m_grid, zp, color='#e31a1c', lw=0.1, alpha = 0.1, rasterized = True)\n",
    "    alpha_matrix[i, :] = zp\n",
    "    \n",
    "median_alpha = np.median(alpha_matrix, axis = 0)\n",
    "ax.set_xlim(2,120)\n",
    "ax.set_ylim(0,7)\n",
    "ax.set_xlabel(r\"$m_1$ [$M_{\\odot}$]\", fontsize = 35)\n",
    "ax.set_ylabel(r\"$\\alpha_z$\", fontsize = 35)\n",
    "plt.xticks(fontsize=25)\n",
    "plt.yticks(fontsize=25)\n",
    "plt.plot(m_grid, median_alpha, \"-.\", c=\"k\", rasterized=True)\n",
    "plt.plot(m_grid,np.quantile(alpha_matrix,0.05,axis=0), rasterized=True, color='k', lw=2, alpha=1)\n",
    "plt.plot(m_grid,np.quantile(alpha_matrix,0.95,axis=0), rasterized=True, color='k', lw=2, alpha=1)\n",
    "plt.show()"
   ]
  }
 ],
 "metadata": {
  "kernelspec": {
   "display_name": "autoregressive-pop-modeling",
   "language": "python",
   "name": "autoregressive-pop-modeling"
  },
  "language_info": {
   "codemirror_mode": {
    "name": "ipython",
    "version": 3
   },
   "file_extension": ".py",
   "mimetype": "text/x-python",
   "name": "python",
   "nbconvert_exporter": "python",
   "pygments_lexer": "ipython3",
   "version": "3.8.13"
  }
 },
 "nbformat": 4,
 "nbformat_minor": 5
}
