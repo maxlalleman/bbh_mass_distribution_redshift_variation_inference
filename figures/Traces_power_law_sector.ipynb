{
 "cells": [
  {
   "cell_type": "code",
   "execution_count": null,
   "id": "8fcc0daa-e11e-417d-b4a4-8d98de2b91c1",
   "metadata": {},
   "outputs": [],
   "source": [
    "import arviz as az\n",
    "import matplotlib.pylab as plt\n",
    "\n",
    "from makeCorner import *\n",
    "\n",
    "az.rcParams[\"plot.max_subplots\"] = 80"
   ]
  },
  {
   "cell_type": "code",
   "execution_count": null,
   "id": "9ee9d08c-e7cd-4b99-8786-bdcdb027b8f3",
   "metadata": {},
   "outputs": [],
   "source": [
    "cdf_file = \"./RUNS/CBC_O3_Power_Law.cdf\"\n",
    "data = az.from_netcdf(cdf_file)\n",
    "samps = data.posterior.stack(draws=(\"chain\", \"draw\"))"
   ]
  },
  {
   "cell_type": "code",
   "execution_count": null,
   "id": "b14e989a-916d-4c43-b2c6-27df17324a5b",
   "metadata": {},
   "outputs": [],
   "source": [
    "def sigmoid(low, delta, width, middle, zs):\n",
    "    return delta / (1 + jnp.exp(-(1/width)*(zs - middle))) + low\n",
    "\n",
    "def sigmoid_no_delta(low, high, width, middle, zs):\n",
    "    return (high - low) / (1 + jnp.exp(-(1/width)*(zs - middle))) + low\n",
    "\n",
    "zs = np.linspace(0,4,500)"
   ]
  },
  {
   "cell_type": "code",
   "execution_count": null,
   "id": "b07ef015-f23e-4e9e-a7d3-e8bde6fdbfe2",
   "metadata": {},
   "outputs": [],
   "source": [
    "fig,ax = plt.subplots(figsize=(10,6))\n",
    "kappa_matrix = np.zeros((len(range(samps.alpha_ref.size)), len(zs)))\n",
    "for i in range(samps.alpha_ref.size):\n",
    "    kappa_r = sigmoid(samps.alpha_ref.values[i],\n",
    "                               samps.delta_alpha.values[i],\n",
    "                               10.**samps.log_width_alpha.values[i],\n",
    "                               samps.middle_z_alpha.values[i],\n",
    "                               zs,\n",
    "                              )\n",
    "    plt.plot(zs, kappa_r, lw = 0.15, color='#1f78b4', alpha = 0.2)\n",
    "    kappa_matrix[i, :] = kappa_r\n",
    "\n",
    "median_kappa = np.median(kappa_matrix, axis = 0)\n",
    "plt.xlim(0,4)\n",
    "plt.ylim(-8, -1)\n",
    "ax.set_xlabel(r\"$z$\", fontsize = 35)\n",
    "ax.set_ylabel(r\"$\\kappa$\", fontsize = 35)\n",
    "plt.xticks(fontsize=25)\n",
    "plt.yticks(fontsize=25)\n",
    "plt.plot(zs, median_kappa, \"-.\", c=\"k\", rasterized=True)\n",
    "plt.plot(zs,np.quantile(kappa_matrix,0.05,axis=0), rasterized=True, color='k', lw=2, alpha=1)\n",
    "plt.plot(zs,np.quantile(kappa_matrix,0.95,axis=0), rasterized=True, color='k', lw=2, alpha=1)\n",
    "plt.show()"
   ]
  },
  {
   "cell_type": "code",
   "execution_count": null,
   "id": "d234da9a-eaca-4208-86f5-a31ad5f7ff9c",
   "metadata": {},
   "outputs": [],
   "source": [
    "fig,ax = plt.subplots(figsize=(10,6))\n",
    "mMax_matrix = np.zeros((len(range(samps.alpha_ref.size)), len(zs)))\n",
    "for i in range(samps.mMax.size):\n",
    "    mMax_r = sigmoid_no_delta(samps.mMax.values[i],\n",
    "                               samps.high_mMax.values[i],\n",
    "                               10.**samps.log_width_mMax.values[i],\n",
    "                               samps.middle_z_mMax.values[i],\n",
    "                               zs,\n",
    "                              )\n",
    "    plt.plot(zs, mMax_r, lw = 0.15, color='#1f78b4', alpha = 0.2)\n",
    "    mMax_matrix[i, :] = mMax_r\n",
    "\n",
    "median_mMax = np.median(mMax_matrix, axis = 0)\n",
    "plt.xlim(0,4)\n",
    "plt.ylim(50, 100)\n",
    "ax.set_xlabel(r\"$z$\", fontsize = 35)\n",
    "ax.set_ylabel(r\"$M_{max}$\", fontsize = 35)\n",
    "plt.xticks(fontsize=25)\n",
    "plt.yticks(fontsize=25)\n",
    "plt.plot(zs, median_mMax, \"-.\", c=\"k\", rasterized=True)\n",
    "plt.plot(zs,np.quantile(mMax_matrix,0.05,axis=0), rasterized=True, color='k', lw=2, alpha=1)\n",
    "plt.plot(zs,np.quantile(mMax_matrix,0.95,axis=0), rasterized=True, color='k', lw=2, alpha=1)\n",
    "plt.show()"
   ]
  },
  {
   "cell_type": "code",
   "execution_count": null,
   "id": "809b463a-fde1-425d-beb1-6a24f58e16e6",
   "metadata": {},
   "outputs": [],
   "source": [
    "fig,ax = plt.subplots(figsize=(10,6))\n",
    "fpeak_matrix = np.zeros((len(range(samps.log_f_peak.size)), len(zs)))\n",
    "for i in range(samps.log_f_peak.size):\n",
    "    f_peak_r = sigmoid_no_delta(samps.log_f_peak.values[i],\n",
    "                               samps.log_high_f_peak.values[i],\n",
    "                               10.**samps.log_width_f_peak.values[i],\n",
    "                               samps.middle_z_f_peak.values[i],\n",
    "                               zs,\n",
    "                              )\n",
    "    plt.plot(zs, f_peak_r, lw = 0.15, color='#1f78b4', alpha = 0.2)\n",
    "    fpeak_matrix[i, :] = f_peak_r\n",
    "\n",
    "median_fpeak = np.median(fpeak_matrix, axis = 0)\n",
    "plt.xlim(0,4)\n",
    "plt.ylim(-5, 0)\n",
    "ax.set_xlabel(r\"$z$\", fontsize = 35)\n",
    "ax.set_ylabel(r\"$log(f_p)$\", fontsize = 35)\n",
    "plt.xticks(fontsize=25)\n",
    "plt.yticks(fontsize=25)\n",
    "plt.plot(zs, median_fpeak, \"-.\", c=\"k\", rasterized=True)\n",
    "plt.plot(zs,np.quantile(fpeak_matrix,0.05,axis=0), rasterized=True, color='k', lw=2, alpha=1)\n",
    "plt.plot(zs,np.quantile(fpeak_matrix,0.95,axis=0), rasterized=True, color='k', lw=2, alpha=1)\n",
    "plt.show()"
   ]
  },
  {
   "cell_type": "code",
   "execution_count": null,
   "id": "e65b4435-bd93-41c7-a375-1fcd612185e1",
   "metadata": {},
   "outputs": [],
   "source": [
    "fig,ax = plt.subplots(figsize=(10,6))\n",
    "dmMax_matrix = np.zeros((len(range(samps.log_f_peak.size)), len(zs)))\n",
    "for i in range(samps.log_dmMax.size):\n",
    "    f_peak_r = sigmoid_no_delta(samps.log_dmMax.values[i],\n",
    "                               samps.log_high_dmMax.values[i],\n",
    "                               10.**samps.log_width_dm.values[i],\n",
    "                               samps.middle_z_dm.values[i],\n",
    "                               zs,\n",
    "                              )\n",
    "    plt.plot(zs, f_peak_r, lw = 0.15, color='#1f78b4', alpha = 0.2)\n",
    "    dmMax_matrix[i, :] = f_peak_r\n",
    "\n",
    "median_dmMax = np.median(dmMax_matrix, axis = 0)\n",
    "plt.xlim(0,4)\n",
    "plt.ylim(0.5, 1.5)\n",
    "ax.set_xlabel(r\"$z$\", fontsize = 35)\n",
    "ax.set_ylabel(r\"$log(dm_{Max})$\", fontsize = 35)\n",
    "plt.xticks(fontsize=25)\n",
    "plt.yticks(fontsize=25)\n",
    "plt.plot(zs, median_dmMax, \"-.\", c=\"k\", rasterized=True)\n",
    "plt.plot(zs,np.quantile(dmMax_matrix,0.05,axis=0), rasterized=True, color='k', lw=2, alpha=1)\n",
    "plt.plot(zs,np.quantile(dmMax_matrix,0.95,axis=0), rasterized=True, color='k', lw=2, alpha=1)\n",
    "plt.show()"
   ]
  }
 ],
 "metadata": {
  "kernelspec": {
   "display_name": "autoregressive-pop-modeling",
   "language": "python",
   "name": "autoregressive-pop-modeling"
  },
  "language_info": {
   "codemirror_mode": {
    "name": "ipython",
    "version": 3
   },
   "file_extension": ".py",
   "mimetype": "text/x-python",
   "name": "python",
   "nbconvert_exporter": "python",
   "pygments_lexer": "ipython3",
   "version": "3.8.13"
  }
 },
 "nbformat": 4,
 "nbformat_minor": 5
}
