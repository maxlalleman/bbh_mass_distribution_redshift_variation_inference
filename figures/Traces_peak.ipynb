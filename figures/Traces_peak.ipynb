{
 "cells": [
  {
   "cell_type": "code",
   "execution_count": null,
   "id": "8fcc0daa-e11e-417d-b4a4-8d98de2b91c1",
   "metadata": {},
   "outputs": [],
   "source": [
    "import arviz as az\n",
    "import matplotlib.pylab as plt\n",
    "\n",
    "from makeCorner import *\n",
    "\n",
    "az.rcParams[\"plot.max_subplots\"] = 80"
   ]
  },
  {
   "cell_type": "code",
   "execution_count": null,
   "id": "9ee9d08c-e7cd-4b99-8786-bdcdb027b8f3",
   "metadata": {},
   "outputs": [],
   "source": [
    "cdf_file = \"./RUNS/CBC_O3_Peak.cdf\"\n",
    "data = az.from_netcdf(cdf_file)\n",
    "samps = data.posterior.stack(draws=(\"chain\", \"draw\"))"
   ]
  },
  {
   "cell_type": "code",
   "execution_count": null,
   "id": "b14e989a-916d-4c43-b2c6-27df17324a5b",
   "metadata": {},
   "outputs": [],
   "source": [
    "def sigmoid(low, delta, width, middle, zs):\n",
    "    return delta / (1 + jnp.exp(-(1/width)*(zs - middle))) + low\n",
    "\n",
    "def sigmoid_no_delta(low, high, width, middle, zs):\n",
    "    return (high - low) / (1 + jnp.exp(-(1/width)*(zs - middle))) + low\n",
    "\n",
    "zs = np.linspace(0,4,500)"
   ]
  },
  {
   "cell_type": "code",
   "execution_count": null,
   "id": "b07ef015-f23e-4e9e-a7d3-e8bde6fdbfe2",
   "metadata": {},
   "outputs": [],
   "source": [
    "fig,ax = plt.subplots(figsize=(10,6))\n",
    "fp_matrix = np.zeros((len(range(samps.log_f_peak.size)), len(zs)))\n",
    "for i in range(samps.log_f_peak.size):\n",
    "    f_peak_r = sigmoid_no_delta(samps.log_f_peak.values[i],\n",
    "                               samps.log_high_f_peak.values[i],\n",
    "                               10.**samps.log_width_f_peak.values[i],\n",
    "                               samps.middle_z_f_peak.values[i],\n",
    "                               zs,\n",
    "                              )\n",
    "    plt.plot(zs, f_peak_r, lw = 0.15, color='#33a02c', alpha = 0.2, rasterized = True)\n",
    "    fp_matrix[i, :] = f_peak_r\n",
    "\n",
    "median_fp = np.median(fp_matrix, axis = 0)\n",
    "plt.xlim(0,4)\n",
    "plt.ylim(-5, 0)\n",
    "ax.set_xlabel(r\"$z$\", fontsize = 35)\n",
    "ax.set_ylabel(r\"$log(f_p)$\", fontsize = 35)\n",
    "plt.xticks(fontsize=25)\n",
    "plt.yticks(fontsize=25)\n",
    "plt.plot(zs, mean_fp, \"-.\", c=\"k\", rasterized=True)\n",
    "plt.plot(zs,np.quantile(fp_matrix,0.05,axis=0), rasterized=True, color='k', lw=2, alpha=1)\n",
    "plt.plot(zs,np.quantile(fp_matrix,0.95,axis=0), rasterized=True, color='k', lw=2, alpha=1)\n",
    "plt.savefig(\"Trace_f_peak_peak.pdf\", dpi=400, bbox_inches='tight')\n",
    "plt.show()"
   ]
  },
  {
   "cell_type": "code",
   "execution_count": null,
   "id": "d234da9a-eaca-4208-86f5-a31ad5f7ff9c",
   "metadata": {},
   "outputs": [],
   "source": [
    "fig,ax = plt.subplots(figsize=(10,6))\n",
    "mu_matrix = np.zeros((len(range(samps.mu_m1.size)), len(zs)))\n",
    "for i in range(samps.mu_m1.size):\n",
    "    mu_r = sigmoid(samps.mu_m1.values[i],\n",
    "                               samps.delta_mu.values[i],\n",
    "                               10.**samps.log_width_mu.values[i],\n",
    "                               samps.middle_z_mu.values[i],\n",
    "                               zs,\n",
    "                              )\n",
    "    plt.plot(zs, mu_r, lw = 0.15, color='#33a02c', alpha = 0.2, rasterized = True)\n",
    "    mu_matrix[i, :] = mu_r\n",
    "\n",
    "median_mu = np.median(mu_matrix, axis = 0)\n",
    "plt.xlim(0,4)\n",
    "plt.ylim(15, 50)\n",
    "ax.set_xlabel(r\"$z$\", fontsize = 35)\n",
    "ax.set_ylabel(r\"$\\mu_{m_1}$\", fontsize = 35)\n",
    "plt.xticks(fontsize=25)\n",
    "plt.yticks(fontsize=25)\n",
    "plt.plot(zs, median_mu, \"-.\", c=\"k\", rasterized=True)\n",
    "plt.plot(zs,np.quantile(mu_matrix,0.05,axis=0), rasterized=True, color='k', lw=2, alpha=1)\n",
    "plt.plot(zs,np.quantile(mu_matrix,0.95,axis=0), rasterized=True, color='k', lw=2, alpha=1)\n",
    "plt.savefig(\"Trace_mu_peak.pdf\", dpi=400, bbox_inches='tight')\n",
    "plt.show()"
   ]
  },
  {
   "cell_type": "code",
   "execution_count": null,
   "id": "e65b4435-bd93-41c7-a375-1fcd612185e1",
   "metadata": {},
   "outputs": [],
   "source": [
    "fig,ax = plt.subplots(figsize=(10,6))\n",
    "sig_matrix = np.zeros((len(range(samps.sig_m1.size)), len(zs)))\n",
    "for i in range(samps.sig_m1.size):\n",
    "    sig_r = sigmoid_no_delta(samps.sig_m1.values[i],\n",
    "                               samps.high_sig.values[i],\n",
    "                               10.**samps.log_width_sig.values[i],\n",
    "                               samps.middle_z_sig.values[i],\n",
    "                               zs,\n",
    "                              )\n",
    "    plt.plot(zs, sig_r, lw = 0.15, color='#33a02c', alpha = 0.2, rasterized = True)\n",
    "    sig_matrix[i, :] = sig_r\n",
    "\n",
    "median_sig = np.median(sig_matrix, axis = 0)\n",
    "plt.xlim(0,4)\n",
    "plt.ylim(2,15)\n",
    "ax.set_xlabel(r\"$z$\", fontsize = 35)\n",
    "ax.set_ylabel(r\"$\\sigma_{m_1}$\", fontsize = 35)\n",
    "plt.xticks(fontsize=25)\n",
    "plt.yticks(fontsize=25)\n",
    "plt.plot(zs, median_sig, \"-.\", c=\"k\", rasterized=True)\n",
    "plt.plot(zs,np.quantile(sig_matrix,0.05,axis=0), rasterized=True, color='k', lw=2, alpha=1)\n",
    "plt.plot(zs,np.quantile(sig_matrix,0.95,axis=0), rasterized=True, color='k', lw=2, alpha=1)\n",
    "plt.savefig(\"Trace_sigma_peak.pdf\", dpi=400, bbox_inches='tight')\n",
    "plt.show()"
   ]
  }
 ],
 "metadata": {
  "kernelspec": {
   "display_name": "autoregressive-pop-modeling",
   "language": "python",
   "name": "autoregressive-pop-modeling"
  },
  "language_info": {
   "codemirror_mode": {
    "name": "ipython",
    "version": 3
   },
   "file_extension": ".py",
   "mimetype": "text/x-python",
   "name": "python",
   "nbconvert_exporter": "python",
   "pygments_lexer": "ipython3",
   "version": "3.8.13"
  }
 },
 "nbformat": 4,
 "nbformat_minor": 5
}
