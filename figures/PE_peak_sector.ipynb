{
 "cells": [
  {
   "cell_type": "code",
   "execution_count": null,
   "id": "8fcc0daa-e11e-417d-b4a4-8d98de2b91c1",
   "metadata": {},
   "outputs": [],
   "source": [
    "import arviz as az\n",
    "import matplotlib.pylab as plt\n",
    "import numpyro.distributions as dist\n",
    "\n",
    "from makeCorner import *\n",
    "\n",
    "az.rcParams[\"plot.max_subplots\"] = 80"
   ]
  },
  {
   "cell_type": "code",
   "execution_count": null,
   "id": "9ee9d08c-e7cd-4b99-8786-bdcdb027b8f3",
   "metadata": {},
   "outputs": [],
   "source": [
    "cdf_file = \"./RUNS/CBC_O3_Peak.cdf\"\n",
    "data = az.from_netcdf(cdf_file)\n",
    "samps = data.posterior.stack(draws=(\"chain\", \"draw\"))"
   ]
  },
  {
   "cell_type": "code",
   "execution_count": null,
   "id": "2f8ffad2-889f-460c-acb1-2239a302de1a",
   "metadata": {},
   "outputs": [],
   "source": [
    "new_priors = {\n",
    "    \"logR20\":dist.Uniform(-2,1),\n",
    "    \"alpha_ref\":dist.Normal(-2,3),\n",
    "    \"mu_m1\":dist.Uniform(20,50),\n",
    "    \"mMin\":dist.Uniform(5,15),\n",
    "    \"bq\":dist.Normal(0,3),\n",
    "    \"alpha_z\":dist.Normal(0,4),\n",
    "    \"beta_z\":dist.Uniform(0,10),\n",
    "    \"zp\": dist.Uniform(0,4),\n",
    "    \"fpeak\": dist.Uniform(-5,0),\n",
    "    \"log_high_f_peak\": dist.Uniform(-5,0),\n",
    "    \"width_f_peak\": dist.Uniform(-1,1),\n",
    "    \"middle_z_f_peak\": dist.Uniform(0,4),\n",
    "    \"delta_mu\": dist.Normal(0, 5),\n",
    "    \"width_mu\": dist.Uniform(-1,1),\n",
    "    \"middle_z_mu\": dist.Uniform(0,4),\n",
    "    \"sig_m1\": dist.Uniform(1.5,15),\n",
    "    \"high_sig\": dist.Uniform(1.5,15),\n",
    "    \"width_sig\": dist.Uniform(-1,1),\n",
    "    \"middle_z_sig\": dist.Uniform(0,4),\n",
    "}"
   ]
  },
  {
   "cell_type": "code",
   "execution_count": null,
   "id": "92191fc2-25cf-4035-a25b-c0b76c63572e",
   "metadata": {},
   "outputs": [],
   "source": [
    "fig = plt.figure(figsize=(14,13))\n",
    "toPlot_no_GWB_sig = {\n",
    "    \"alpha_ref\":{\"data\":samps.alpha_ref,\"plot_bounds\":(-6.5,-2.5),\"label\":r\"$\\kappa_{0}$\"},\n",
    "    \"zp\":{\"data\":samps.zp,\"plot_bounds\":(0,4),\"label\":r\"$z_p$\"},\n",
    "    \"sig_m1\":{\"data\":samps.sig_m1,\"plot_bounds\":(1.5,15),\"label\":r\"$\\sigma_{m1}$\"},\n",
    "    \"high_sig\":{\"data\":samps.high_sig,\"plot_bounds\":(1.5,15),\"label\":r\"$high \\sigma$\"},\n",
    "    \"width_sig\":{\"data\":samps.log_width_sig,\"plot_bounds\":(-1,1),\"label\":r\"Width $\\sigma$\"},\n",
    "    \"middle_z_sig\":{\"data\":samps.middle_z_sig,\"plot_bounds\":(0,4),\"label\":r\"$z_{\\sigma_{m_1}}$\"},\n",
    "}\n",
    "plot_corner(fig, toPlot_no_GWB_sig, \"#33a02c\", labelsize=20, priors = new_priors)\n",
    "plt.savefig(\"PE_sigma_peak.pdf\", dpi=400, bbox_inches='tight')\n",
    "plt.xticks(fontsize=10)\n",
    "plt.yticks(fontsize=10)\n",
    "plt.tight_layout()\n",
    "plt.show()"
   ]
  }
 ],
 "metadata": {
  "kernelspec": {
   "display_name": "autoregressive-pop-modeling",
   "language": "python",
   "name": "autoregressive-pop-modeling"
  },
  "language_info": {
   "codemirror_mode": {
    "name": "ipython",
    "version": 3
   },
   "file_extension": ".py",
   "mimetype": "text/x-python",
   "name": "python",
   "nbconvert_exporter": "python",
   "pygments_lexer": "ipython3",
   "version": "3.8.13"
  }
 },
 "nbformat": 4,
 "nbformat_minor": 5
}
