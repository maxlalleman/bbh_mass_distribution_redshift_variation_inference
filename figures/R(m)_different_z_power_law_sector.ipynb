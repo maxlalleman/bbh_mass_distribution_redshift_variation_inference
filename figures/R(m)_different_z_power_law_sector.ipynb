{
 "cells": [
  {
   "cell_type": "code",
   "execution_count": null,
   "id": "8fcc0daa-e11e-417d-b4a4-8d98de2b91c1",
   "metadata": {},
   "outputs": [],
   "source": [
    "import arviz as az\n",
    "import matplotlib.pylab as plt\n",
    "import numpyro.distributions as dist\n",
    "\n",
    "from makeCorner import *\n",
    "\n",
    "az.rcParams[\"plot.max_subplots\"] = 80"
   ]
  },
  {
   "cell_type": "code",
   "execution_count": null,
   "id": "9ee9d08c-e7cd-4b99-8786-bdcdb027b8f3",
   "metadata": {},
   "outputs": [],
   "source": [
    "cdf_file = \"./RUNS/CBC_O3_Power_Law.cdf\"\n",
    "data = az.from_netcdf(cdf_file)\n",
    "samps = data.posterior.stack(draws=(\"chain\", \"draw\"))"
   ]
  },
  {
   "cell_type": "code",
   "execution_count": null,
   "id": "f16bb2f7-2444-47e4-9ec3-57ebba58eff7",
   "metadata": {},
   "outputs": [],
   "source": [
    "def massModel_variation_all_m1(m1, alpha_ref, delta_alpha, width_alpha, middle_alpha,\n",
    "                               mu_m1, sig_m1, log_f_peak, log_high_f_peak, width_f_peak, middle_f_peak,\n",
    "                               mMax, high_mMax, width_mMax, middle_mMax,\n",
    "                               mMin, dmMax, high_dmMax, width_dm, middle_dm, dmMin, zs):\n",
    "    \n",
    "    alpha_new = sigmoid(alpha_ref, delta_alpha, width_alpha, middle_alpha, zs)\n",
    "    p_m1_pl = (1.+alpha_new)*m1**(alpha_new)/(tmp_max**(1.+alpha_new) - tmp_min**(1.+alpha_new))\n",
    "\n",
    "    p_m1_peak = jnp.exp(-(m1-mu_m1)**2/(2.*sig_m1**2))/jnp.sqrt(2.*np.pi*sig_m1**2)\n",
    "    \n",
    "    new_mMax = sigmoid_no_delta(mMax, high_mMax, width_mMax, middle_mMax, zs)\n",
    "    new_dmMax = sigmoid_no_delta(dmMax, high_dmMax, width_dm, middle_dm, zs)\n",
    "\n",
    "    # Compute low- and high-mass filters\n",
    "    low_filter = jnp.exp(-(m1-mMin)**2/(2.*dmMin**2))\n",
    "    low_filter = jnp.where(m1<mMin,low_filter,1.)\n",
    "    high_filter = jnp.exp(-(m1-new_mMax)**2/(2.*new_dmMax**2))\n",
    "    high_filter = jnp.where(m1>new_mMax,high_filter,1.)\n",
    "\n",
    "    new_f_peak = sigmoid_no_delta(log_f_peak, log_high_f_peak, width_f_peak, middle_f_peak, zs)\n",
    "    actual_f_peak = 10.**(new_f_peak)\n",
    "    combined_p = jnp.array((actual_f_peak*p_m1_peak + (1. - actual_f_peak)*p_m1_pl)*low_filter*high_filter)\n",
    "    return combined_p\n",
    "\n",
    "def merger_rate_z(z, alpha, beta, zp):\n",
    "    return (1+z)**alpha/(1+((1+z)/(1+zp))**(alpha+beta))"
   ]
  },
  {
   "cell_type": "code",
   "execution_count": null,
   "id": "a3b25f8b-7a1f-4fcd-8f81-139c59db59b3",
   "metadata": {},
   "outputs": [],
   "source": [
    "def R(z, samps):\n",
    "    fig,ax = plt.subplots(figsize=(10,6))\n",
    "    m_grid = np.linspace(2,120,500)\n",
    "    for i in range(samps.alpha_ref.size):\n",
    "        p_m = massModel_variation_all_m1(m_grid, samps.alpha_ref.values[i], samps.delta_alpha.values[i],\n",
    "                                         samps.width_alpha.values[i], samps.middle_z_alpha.values[i],\n",
    "                                         samps.mu_m1.values[i], samps.sig_m1.values[i], samps.log_f_peak.values[i],\n",
    "                                         samps.log_high_f_peak.values[i], samps.width_f_peak.values[i], samps.middle_z_f_peak.values[i],\n",
    "                                         samps.mMax.values[i], samps.high_mMax.values[i], samps.width_mMax.values[i], samps.middle_z_mMax.values[i],\n",
    "                                         samps.mMin.values[i], 10.**samps.log_dmMax.values[i], 10.**samps.log_high_dmMax.values[i],\n",
    "                                         samps.width_dm.values[i], samps.middle_z_dm.values[i], 10.**samps.log_dmMin.values[i], z)\n",
    "\n",
    "        p_20 = massModel_variation_all_m1(20, samps.alpha_ref.values[i], samps.delta_alpha.values[i],\n",
    "                                         samps.width_alpha.values[i], samps.middle_z_alpha.values[i],\n",
    "                                         samps.mu_m1.values[i], samps.sig_m1.values[i], samps.log_f_peak.values[i],\n",
    "                                         samps.log_high_f_peak.values[i], samps.width_f_peak.values[i], samps.middle_z_f_peak.values[i],\n",
    "                                         samps.mMax.values[i], samps.high_mMax.values[i], samps.width_mMax.values[i], samps.middle_z_mMax.values[i],\n",
    "                                         samps.mMin.values[i], 10.**samps.log_dmMax.values[i], 10.**samps.log_high_dmMax.values[i],\n",
    "                                         samps.width_dm.values[i], samps.middle_z_dm.values[i], 10.**samps.log_dmMin.values[i], 0.2)\n",
    "\n",
    "        p_m *= samps.R20.values[i]/p_20\n",
    "        ax.plot(m_grid,p_m,color='#1f78b4',lw=0.1,alpha=0.1, rasterized = True)\n",
    "\n",
    "    ax.set_yscale('log')\n",
    "    ax.set_ylim(5e-5,30)\n",
    "    ax.set_xlim(2,120)\n",
    "    ax.set_xlabel(r\"$m_1$\", fontsize=35)\n",
    "    ax.set_ylabel(r\"$\\mathcal{R}$($m_1$, $z$ = \" + f\"{z})\", fontsize=35) \n",
    "    plt.xticks(fontsize=25)\n",
    "    plt.yticks(fontsize=25)\n",
    "    plt.title(r\"$z$ = \" + f\"{z}\")\n",
    "    plt.savefig(f\"R(m,z={z})_power_law_sector.pdf\", dpi=500, bbox_inches='tight')\n",
    "    plt.show()"
   ]
  },
  {
   "cell_type": "code",
   "execution_count": null,
   "id": "e6334d18-5e79-47f6-8a92-096258e4547d",
   "metadata": {},
   "outputs": [],
   "source": [
    "R(0.2, samps)"
   ]
  },
  {
   "cell_type": "code",
   "execution_count": null,
   "id": "3c9b23b7-9f48-4ff3-89ea-cd2d337c9e6b",
   "metadata": {},
   "outputs": [],
   "source": [
    "R(2, samps)"
   ]
  },
  {
   "cell_type": "code",
   "execution_count": null,
   "id": "23f20426-e6cc-42a4-a474-2ed276e89aa7",
   "metadata": {},
   "outputs": [],
   "source": [
    "R(4, samps)"
   ]
  }
 ],
 "metadata": {
  "kernelspec": {
   "display_name": "autoregressive-pop-modeling",
   "language": "python",
   "name": "autoregressive-pop-modeling"
  },
  "language_info": {
   "codemirror_mode": {
    "name": "ipython",
    "version": 3
   },
   "file_extension": ".py",
   "mimetype": "text/x-python",
   "name": "python",
   "nbconvert_exporter": "python",
   "pygments_lexer": "ipython3",
   "version": "3.8.13"
  }
 },
 "nbformat": 4,
 "nbformat_minor": 5
}
